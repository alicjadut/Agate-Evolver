{
 "cells": [
  {
   "cell_type": "code",
   "execution_count": 1,
   "metadata": {},
   "outputs": [],
   "source": [
    "import numpy as np\n",
    "import matplotlib.pyplot as plt\n",
    "\n",
    "# Generating circle modulated by sin\n",
    "\n",
    "#Curve parameters\n",
    "r_max=1 # maximal distance from (0,0) point to the curve (between 0 and 1)\n",
    "modulation=0.05 # amplitude of sin to the average radius of the circle ratio (between 0 and 1)\n",
    "period= (2*np.pi)/50 # period of sin in radians\n",
    "\n",
    "number_of_points=10000 # how many points are used in curve approximation\n",
    "\n",
    " \n",
    "def make_xy_list(r_max, number_of_points=number_of_points):\n",
    "    points_xy=[]\n",
    "    \n",
    "    r_0 = r_max/(1 + modulation) #average radius\n",
    "    a = r_0*modulation #amplitude of sin\n",
    "    freq = (2*np.pi)/period\n",
    "    \n",
    "    for fi in np.linspace(0, 2*np.pi, number_of_points):\n",
    "        x , y = r_0 * (1 + a*np.sin(freq*fi))*np.cos(fi), r_0 * (1 + a*np.sin(freq*fi))*np.sin(fi)\n",
    "        points_xy.append((x,y))\n",
    "        \n",
    "    return points_xy\n",
    "\n",
    "\n",
    "def make_xyz_list(zrange=50):\n",
    "    \n",
    "    res = []\n",
    "    theta = np.linspace(0,np.pi, zrange//2)\n",
    "    for t in theta:\n",
    "        if np.sin(t) > 0.1:\n",
    "            res.append(make_xy_list(r_max=np.sin(t), number_of_points=1000))\n",
    "            \n",
    "    return res"
   ]
  },
  {
   "cell_type": "code",
   "execution_count": 2,
   "metadata": {},
   "outputs": [],
   "source": [
    "import evolver_3D as ev"
   ]
  },
  {
   "cell_type": "code",
   "execution_count": 3,
   "metadata": {},
   "outputs": [
    {
     "ename": "AttributeError",
     "evalue": "'list' object has no attribute 'buffer'",
     "output_type": "error",
     "traceback": [
      "\u001b[1;31m---------------------------------------------------------------------------\u001b[0m",
      "\u001b[1;31mAttributeError\u001b[0m                            Traceback (most recent call last)",
      "\u001b[1;32m<ipython-input-3-efa8410f9d89>\u001b[0m in \u001b[0;36m<module>\u001b[1;34m()\u001b[0m\n\u001b[0;32m      1\u001b[0m \u001b[0mlst\u001b[0m \u001b[1;33m=\u001b[0m \u001b[0mmake_xyz_list\u001b[0m\u001b[1;33m(\u001b[0m\u001b[1;36m50\u001b[0m\u001b[1;33m)\u001b[0m\u001b[1;33m\u001b[0m\u001b[0m\n\u001b[1;32m----> 2\u001b[1;33m \u001b[0mlyrs\u001b[0m \u001b[1;33m=\u001b[0m \u001b[0mev\u001b[0m\u001b[1;33m.\u001b[0m\u001b[0mmake_N_layers_3D\u001b[0m\u001b[1;33m(\u001b[0m\u001b[0mlst\u001b[0m\u001b[1;33m,\u001b[0m \u001b[1;36m7\u001b[0m\u001b[1;33m,\u001b[0m \u001b[1;36m5\u001b[0m\u001b[1;33m,\u001b[0m \u001b[1;36m1000\u001b[0m\u001b[1;33m)\u001b[0m\u001b[1;33m\u001b[0m\u001b[0m\n\u001b[0m",
      "\u001b[1;32m~\\Documents\\hackathon\\Agate-Evolver\\evolver_3D.py\u001b[0m in \u001b[0;36mmake_N_layers_3D\u001b[1;34m(first_layer, layer_width, l_distance, N)\u001b[0m\n\u001b[0;32m     59\u001b[0m     \u001b[1;32mfor\u001b[0m \u001b[0mi\u001b[0m \u001b[1;32min\u001b[0m \u001b[0mrange\u001b[0m\u001b[1;33m(\u001b[0m\u001b[0mN\u001b[0m\u001b[1;33m)\u001b[0m\u001b[1;33m:\u001b[0m\u001b[1;33m\u001b[0m\u001b[0m\n\u001b[0;32m     60\u001b[0m         \u001b[0mlayers_list\u001b[0m\u001b[1;33m.\u001b[0m\u001b[0mappend\u001b[0m\u001b[1;33m(\u001b[0m\u001b[0mlayer\u001b[0m\u001b[1;33m)\u001b[0m\u001b[1;33m\u001b[0m\u001b[0m\n\u001b[1;32m---> 61\u001b[1;33m         \u001b[0mlayer\u001b[0m\u001b[1;33m=\u001b[0m\u001b[0mmake_new_layer_3D\u001b[0m\u001b[1;33m(\u001b[0m\u001b[0mlayer\u001b[0m\u001b[1;33m,\u001b[0m \u001b[1;36m0.02\u001b[0m\u001b[1;33m,\u001b[0m \u001b[1;36m0.004\u001b[0m\u001b[1;33m)\u001b[0m\u001b[1;33m\u001b[0m\u001b[0m\n\u001b[0m\u001b[0;32m     62\u001b[0m \u001b[1;33m\u001b[0m\u001b[0m\n\u001b[0;32m     63\u001b[0m \u001b[1;33m\u001b[0m\u001b[0m\n",
      "\u001b[1;32m~\\Documents\\hackathon\\Agate-Evolver\\evolver_3D.py\u001b[0m in \u001b[0;36mmake_new_layer_3D\u001b[1;34m(old_layer, layer_width, l_distance)\u001b[0m\n\u001b[0;32m     29\u001b[0m \u001b[1;33m\u001b[0m\u001b[0m\n\u001b[0;32m     30\u001b[0m         \u001b[1;31m# growth of the actual layer\u001b[0m\u001b[1;33m\u001b[0m\u001b[1;33m\u001b[0m\u001b[0m\n\u001b[1;32m---> 31\u001b[1;33m         \u001b[0mcross_new\u001b[0m\u001b[1;33m=\u001b[0m\u001b[0mcrossection\u001b[0m\u001b[1;33m.\u001b[0m\u001b[0mbuffer\u001b[0m\u001b[1;33m(\u001b[0m\u001b[1;33m-\u001b[0m\u001b[0mlayer_width\u001b[0m\u001b[1;33m)\u001b[0m\u001b[1;33m\u001b[0m\u001b[0m\n\u001b[0m\u001b[0;32m     32\u001b[0m \u001b[1;33m\u001b[0m\u001b[0m\n\u001b[0;32m     33\u001b[0m         \u001b[1;31m#now adding contribution from other layers\u001b[0m\u001b[1;33m\u001b[0m\u001b[1;33m\u001b[0m\u001b[0m\n",
      "\u001b[1;31mAttributeError\u001b[0m: 'list' object has no attribute 'buffer'"
     ]
    }
   ],
   "source": [
    "lst = make_xyz_list(50)\n",
    "lyrs = ev.make_N_layers_3D(lst, 7, 5, 1000)"
   ]
  },
  {
   "cell_type": "code",
   "execution_count": null,
   "metadata": {},
   "outputs": [],
   "source": []
  }
 ],
 "metadata": {
  "hide_input": false,
  "kernelspec": {
   "display_name": "Python 3",
   "language": "python",
   "name": "python3"
  },
  "language_info": {
   "codemirror_mode": {
    "name": "ipython",
    "version": 3
   },
   "file_extension": ".py",
   "mimetype": "text/x-python",
   "name": "python",
   "nbconvert_exporter": "python",
   "pygments_lexer": "ipython3",
   "version": "3.6.5"
  }
 },
 "nbformat": 4,
 "nbformat_minor": 2
}
