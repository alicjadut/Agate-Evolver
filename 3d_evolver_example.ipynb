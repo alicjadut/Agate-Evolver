{
 "cells": [
  {
   "cell_type": "code",
   "execution_count": 4,
   "metadata": {
    "colab": {
     "autoexec": {
      "startup": false,
      "wait_interval": 0
     }
    },
    "colab_type": "code",
    "id": "HY7yH0OiWs5L"
   },
   "outputs": [],
   "source": [
    "#3D- test maker\n",
    "\n",
    "import numpy as np\n",
    "import matplotlib.pyplot as plt\n",
    "\n",
    "# Generating circle modulated by sin\n",
    "\n",
    "#Curve parameters\n",
    "r_max=1 # maximal distance from (0,0) point to the curve (between 0 and 1)\n",
    "modulation=0.05 # amplitude of sin to the average radius of the circle ratio (between 0 and 1)\n",
    "period= (2*np.pi)/5 # period of sin in radians\n",
    "\n",
    "number_of_points=1000 # how many points are used in curve approximation\n",
    "\n",
    " \n",
    "def make_xy_list(r_max, number_of_points=number_of_points):\n",
    "    points_xy=[]\n",
    "    \n",
    "    r_0 = r_max/(1 + modulation) #average radius\n",
    "    a = r_0*modulation #amplitude of sin\n",
    "    freq = (2*np.pi)/period\n",
    "    \n",
    "    for fi in np.linspace(0, 2*np.pi, number_of_points):\n",
    "        x , y = r_0 * (1 + a*np.sin(freq*fi))*np.cos(fi), r_0 * (1 + a*np.sin(freq*fi))*np.sin(fi)\n",
    "        points_xy.append((x,y))\n",
    "        \n",
    "    return points_xy\n",
    "\n",
    "\n",
    "def make_xyz_list(zrange=50):\n",
    "    \n",
    "    res = []\n",
    "    theta = np.linspace(0, 1 , zrange)\n",
    "    for t in theta:\n",
    "          res.append(make_xy_list(r_max=np.sqrt(1-t**2), number_of_points=500))\n",
    "            \n",
    "    return res"
   ]
  },
  {
   "cell_type": "code",
   "execution_count": 5,
   "metadata": {
    "colab": {
     "autoexec": {
      "startup": false,
      "wait_interval": 0
     }
    },
    "colab_type": "code",
    "id": "zV9fSst6zwku"
   },
   "outputs": [],
   "source": [
    "#3D- evolver\n",
    "\n",
    "from shapely.geometry import Polygon, MultiPolygon\n",
    "import matplotlib.pyplot as plt\n",
    "from numpy.random import choice\n",
    "\n",
    "\n",
    "\n",
    "def make_polygon_list(layer_3D):\n",
    "  \n",
    "    #transform list of lists of points to list of Multipolygons\n",
    "    polygons=[]\n",
    "    for cross in layer_3D:\n",
    "        polygons.append(MultiPolygon([Polygon(cross)]))\n",
    "    return polygons\n",
    "        \n",
    "        \n",
    "def make_new_layer_3D(old_layer, layer_width=0.1, l_distance=0.02):\n",
    "  \n",
    "    #l_distance- distance between crossections\n",
    "    #old_layer- list of polygons\n",
    "    #returns list of polygons\n",
    "    #layer_width- layer growth in one step\n",
    "    #returns list of polygons\n",
    "    \n",
    "    dist_max=int(np.floor(layer_width/l_distance)) # how many crossections are in the range of one layer\n",
    "    zsize=len(old_layer) #how many xy layers\n",
    "    new_layer=[] #list of polygons\n",
    "    for i in range(zsize):\n",
    "        crossection=old_layer[i]\n",
    "        \n",
    "        # growth of the actual layer\n",
    "        cross_new=crossection.buffer(-layer_width)\n",
    "        \n",
    "        #now adding contribution from other layers\n",
    "        \n",
    "        lower_bound=max(0, i-dist_max)\n",
    "        upper_bound=min(zsize, i+dist_max+1)\n",
    "        \n",
    "        #only layers between lower_bound and upper_bound contribute\n",
    "        for j in range(lower_bound, upper_bound):\n",
    "            dist = abs((j-i)*l_distance) #distance between i and j layer\n",
    "            new_width_sq=layer_width**2- dist**2 #effective width of contribution of j layer\n",
    "            if(new_width_sq>0):\n",
    "                lj_contribution=old_layer[j].buffer(-np.sqrt(new_width_sq)) # contribution of j layer to i layer\n",
    "                cross_new=cross_new.intersection(lj_contribution)\n",
    "        new_layer.append(cross_new)\n",
    "        \n",
    "    return new_layer\n",
    "  \n",
    "def make_N_layers_3D(first_layer, layer_width=0.1, l_distance=0.02, N=8):\n",
    "\n",
    "    #makes N layers in 3D\n",
    "    #first_layer- list of polygons, initial layer\n",
    "    #layer_width, l_distance- like in make_new_layer_3D\n",
    "    #returns list of created layers\n",
    "    \n",
    "    layers_list = []\n",
    "    layer = first_layer\n",
    "    \n",
    "    for i in range(N):\n",
    "        layers_list.append(layer)\n",
    "        layer=make_new_layer_3D(layer, layer_width, l_distance)\n",
    "        \n",
    "        \n",
    "    return(layers_list)\n",
    "\n",
    "def draw_crossection(layers_list, z):\n",
    "  \n",
    "    # draws crossection of list of 3D layers\n",
    "    # z- number of layer to be drawn\n",
    "    \n",
    "    colours=['brown','lightblue','khaki','gold','lavender','tan','wheat','white','darkgray','beige','ivory']\n",
    "    \n",
    "    for layer in layers_list:\n",
    "        mpolygon = layer[z]\n",
    "        if(mpolygon.__class__.__name__=='Polygon'):\n",
    "            mpolygon = MultiPolygon([mpolygon])\n",
    "        for polygon in mpolygon: # z crossection\n",
    "\n",
    "            x,y = polygon.exterior.xy\n",
    "            plt.plot(x, y, choice(colours, 1)[0])\n",
    "            plt.fill(x, y, choice(colours,1)[0])\n"
   ]
  },
  {
   "cell_type": "code",
   "execution_count": 6,
   "metadata": {
    "colab": {
     "autoexec": {
      "startup": false,
      "wait_interval": 0
     }
    },
    "colab_type": "code",
    "id": "bLR3XgJzXRMz"
   },
   "outputs": [],
   "source": [
    "#3D\n",
    "list_of_cross = make_xyz_list()\n",
    "\n",
    "first_layer = make_polygon_list(list_of_cross)\n",
    "\n",
    "\n",
    "layers_list = make_N_layers_3D(first_layer)"
   ]
  },
  {
   "cell_type": "code",
   "execution_count": 7,
   "metadata": {
    "colab": {
     "autoexec": {
      "startup": false,
      "wait_interval": 0
     },
     "base_uri": "https://localhost:8080/",
     "height": 365
    },
    "colab_type": "code",
    "executionInfo": {
     "elapsed": 817,
     "status": "ok",
     "timestamp": 1530399070612,
     "user": {
      "displayName": "Stanisław Kurdziałek",
      "photoUrl": "https://lh3.googleusercontent.com/a/default-user=s128",
      "userId": "109452893900856780305"
     },
     "user_tz": -120
    },
    "id": "72W45psqfZn_",
    "outputId": "fc8f3c00-719c-4ce3-892e-c693b6f62de2"
   },
   "outputs": [
    {
     "name": "stdout",
     "output_type": "stream",
     "text": [
      "10.0\n"
     ]
    },
    {
     "data": {
      "image/png": "[encoded data removed]",
      "text/plain": [
       "<matplotlib.figure.Figure at 0x19b53b266a0>"
      ]
     },
     "metadata": {},
     "output_type": "display_data"
    }
   ],
   "source": [
    "#3d- sphere\n",
    "z=0\n",
    "draw_crossection(layers_list, z)\n",
    "dist=(1-z/50)/0.1\n",
    "print(dist)"
   ]
  },
  {
   "cell_type": "code",
   "execution_count": 8,
   "metadata": {},
   "outputs": [],
   "source": [
    "from matplotlib.backends.backend_tkagg import FigureCanvasTkAgg\n",
    "from matplotlib.figure import Figure\n",
    "import matplotlib.pyplot as plt\n",
    "import numpy as np\n",
    "import sys\n",
    "if sys.version_info[0] < 3:\n",
    "    import Tkinter as Tk\n",
    "else:\n",
    "    import tkinter as Tk"
   ]
  },
  {
   "cell_type": "code",
   "execution_count": 9,
   "metadata": {},
   "outputs": [],
   "source": [
    "slices=np.shape(layers_list)[1]\n",
    "z=0"
   ]
  },
  {
   "cell_type": "code",
   "execution_count": 10,
   "metadata": {},
   "outputs": [],
   "source": [
    "def tracker_init(ax):\n",
    "    ax.set_title('use scroll wheel to navigate images')\n",
    "    ax.autoscale(enable=False)\n",
    "    ax.set_aspect(1)\n",
    "    ax.get_xaxis().set_visible(False)\n",
    "    ax.get_yaxis().set_visible(False)\n",
    "    ax.set_xlim(-1,1)\n",
    "    ax.set_ylim(-1,1)\n",
    "    colours=['brown','lightblue','khaki','gold','lavender','tan','wheat','white','darkgray','beige','ivory']\n",
    "    \n",
    "    for layer in layers_list:\n",
    "        mpolygon = layer[z]\n",
    "        if(mpolygon.__class__.__name__=='Polygon'):\n",
    "            mpolygon = MultiPolygon([mpolygon])\n",
    "        for polygon in mpolygon: # z crossection\n",
    "\n",
    "            x,y = polygon.exterior.xy\n",
    "            ax.plot(x, y, choice(colours, 1)[0])\n",
    "            ax.fill(x, y, choice(colours,1)[0])"
   ]
  },
  {
   "cell_type": "code",
   "execution_count": 11,
   "metadata": {},
   "outputs": [],
   "source": [
    "def onscroll(event):\n",
    "    global z\n",
    "    if event.button == 'up':\n",
    "        z = (z + 1) % slices\n",
    "    else:\n",
    "        z = (z - 1) % slices\n",
    "    \n",
    "    colours=['brown','lightblue','khaki','gold','lavender','tan','wheat','white','darkgray','beige','ivory']\n",
    "    \n",
    "    a.cla()\n",
    "    a.autoscale(enable=False)\n",
    "    a.set_aspect(1)\n",
    "    a.get_xaxis().set_visible(False)\n",
    "    a.get_yaxis().set_visible(False)\n",
    "    a.set_title('layer number: '+str(z))\n",
    "    a.set_xlim(-1,1)\n",
    "    a.set_ylim(-1,1)\n",
    "    i=0\n",
    "    for layer in layers_list:\n",
    "        mpolygon = layer[z]\n",
    "        if(mpolygon.__class__.__name__=='Polygon'):\n",
    "            mpolygon = MultiPolygon([mpolygon])\n",
    "        for polygon in mpolygon: # z crossection\n",
    "\n",
    "            x,y = polygon.exterior.xy\n",
    "            a.plot(x, y, colours[i])\n",
    "            a.fill(x, y, colours[i])\n",
    "        i=i+1\n",
    "    canvas.draw()"
   ]
  },
  {
   "cell_type": "code",
   "execution_count": 12,
   "metadata": {},
   "outputs": [],
   "source": [
    "root = Tk.Tk()\n",
    "root.wm_title(\"Agate evolver 3D\")\n",
    "\n",
    "f = Figure(figsize=(10, 10), dpi=90)\n",
    "a = f.add_subplot(111)\n",
    "\n",
    "tracker_init(a)\n",
    "\n",
    "# a tk.DrawingArea\n",
    "canvas = FigureCanvasTkAgg(f, master=root)\n",
    "canvas.draw()\n",
    "\n",
    "canvas.mpl_connect('scroll_event', onscroll)\n",
    "\n",
    "canvas.get_tk_widget().pack(side=Tk.TOP, fill=Tk.BOTH, expand=1)\n",
    "\n",
    "Tk.mainloop()"
   ]
  }
 ],
 "metadata": {
  "colab": {
   "collapsed_sections": [],
   "default_view": {},
   "name": "Copy of Agate.ipynb",
   "provenance": [
    {
     "file_id": "1_I1RIi-QkuhnX7cnhxdLfc7Gfh9HdXgN",
     "timestamp": 1530401046778
    }
   ],
   "version": "0.3.2",
   "views": {}
  },
  "kernelspec": {
   "display_name": "Python 3",
   "language": "python",
   "name": "python3"
  },
  "language_info": {
   "codemirror_mode": {
    "name": "ipython",
    "version": 3
   },
   "file_extension": ".py",
   "mimetype": "text/x-python",
   "name": "python",
   "nbconvert_exporter": "python",
   "pygments_lexer": "ipython3",
   "version": "3.6.4"
  }
 },
 "nbformat": 4,
 "nbformat_minor": 1
}
