{
 "cells": [
  {
   "cell_type": "markdown",
   "metadata": {},
   "source": [
    "## Interfejs użytkownika\n",
    "Okno programu przedstawione jest na rysunku 1.\n",
    "\n",
    "![Rysunek 1. okno programu](obrazy/okno_programu.png)\n",
    "*Rysunek 1. okno programu*\n",
    "\n",
    "Składa się z następujących części:\n",
    "\n",
    "1. **Obszar rysowania**\n",
    "Użytkownik może zaznaczyć kontur agatu przytrzymując lewy przycisk myszy. W momencie puszczenia przycisku zostanie wygenerowany agat o zaznaczonym konturze. Gdy użytkownik zaczyna rysować nowy kontur, poprzedni rysunek jest usuwany. Przykład wygenerowanego agatu znajduje się na rysunku 2.\n",
    "![Rysunek 2. wygenerowany agat](obrazy/wygenerowany_agat.png)\n",
    "*Rysunek 2. wygenerowany agat*\n",
    "\n",
    "2. **Wczytywanie obrazu**\n",
    "Program umożliwia wczytanie obrazu w celu porównania wyników modelu z prawdziwymi agatami. Należy podać w polu **2a** ścieżkę do pliku z obrazem w formacie PNG (można pominąć rozszerzenie), a następnie nacisnąć przycisk **2b**. Obraz zostanie wyświetlony w obszarze rysowania. Następnie można zaznaczyć w dowolnym miejscu kontur, a wygenerowany agat zostanie wyświetlony na wczytanym obrazie. Przykład takiego użycia znajduje się na rysunku 3.\n",
    "![Rysunek 3. agat wygenerowany na rysunku](obrazy/agat_wygenerowany_na_rysunku.png)\n",
    "*Rysunek 3. agat wygenerowany na rysunku*\n",
    "\n",
    "3. **Zapisywanie obrazu**\n",
    "Wygenerowany agat można zapisać jako obraz PNG. W tym celu należy podać w polu **3a** nazwę wynikowego pliku, a następnie nacisnąć przycisk **3b**.\n",
    "\n",
    "4. **Grubość warstwy**\n",
    "Użytkownik może ustawić grubość warstwy generowanego agatu, wpisując wartość w polu **4a**, a następnie naciskając przycisk **4b** (dla odniesienia obszar rysowania ma wymiary 1x1). Domyślna wartość: 0.005. Przykład dwóch różnych grubości znajduje się na rysunku 4.\n",
    "![Rysunek 4. różne grubości warstwy](obrazy/rozne_grubosci_warstwy.png)\n",
    "*Rysunek 4. różne grubości warstwy*\n",
    "\n",
    "5. **Powierzchnia wewnętrzna**\n",
    "Użytkownik może ustawić minimalną powierzchnię, dla której będą generowane warstwy, wpisując wartość w polu **5a**, a następnie naciskając przycisk **5b** (dla odniesienia obszar rysowania ma wymiary 1x1). Domyślna wartość: 0.001. Parametr ten określa jak duża powinna być jednolita powierzchnia w środku generowanego agatu. Przykład dwóch różnych powierzchni znajduje się na rysunku 5.\n",
    "![Rysunek 5. różne powierzchnie wewnętrzne](obrazy/rozne_powierzchnie_wewnetrzne.png)\n",
    "*Rysunek 5. różne powierzchnie wewnętrzne*"
   ]
  },
  {
   "cell_type": "markdown",
   "metadata": {},
   "source": [
    "## Podsumowanie\n",
    "\n",
    "![Porównanie prawdziwych agatów z wygenerowanymi na podstawie modelu 2d](obrazy/comparison/1.png)\n",
    "![](obrazy/comparison/2.png)\n",
    "![](obrazy/comparison/3.png)\n",
    "![](obrazy/comparison/4.png)\n",
    "![](obrazy/comparison/5.png)"
   ]
  }
 ],
 "metadata": {
  "kernelspec": {
   "display_name": "Python 3",
   "language": "python",
   "name": "python3"
  },
  "language_info": {
   "codemirror_mode": {
    "name": "ipython",
    "version": 3
   },
   "file_extension": ".py",
   "mimetype": "text/x-python",
   "name": "python",
   "nbconvert_exporter": "python",
   "pygments_lexer": "ipython3",
   "version": "3.6.4"
  }
 },
 "nbformat": 4,
 "nbformat_minor": 2
}
